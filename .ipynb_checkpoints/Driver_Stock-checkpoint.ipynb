{
 "cells": [
  {
   "cell_type": "code",
   "execution_count": 5,
   "metadata": {},
   "outputs": [],
   "source": [
    "import Stock"
   ]
  },
  {
   "cell_type": "code",
   "execution_count": 6,
   "metadata": {},
   "outputs": [
    {
     "name": "stdout",
     "output_type": "stream",
     "text": [
      "Requirement already satisfied: tabulate in /Users/Krish/opt/anaconda3/lib/python3.7/site-packages (0.8.7)\n"
     ]
    }
   ],
   "source": [
    "# to display stock market as a table\n",
    "!pip install tabulate\n",
    "from tabulate import tabulate"
   ]
  },
  {
   "cell_type": "code",
   "execution_count": 7,
   "metadata": {},
   "outputs": [
    {
     "name": "stdout",
     "output_type": "stream",
     "text": [
      "Name                             Symbol      Open price (Rs.)    High price (Rs.)    Low price (Rs.)    Close price (Rs.)       Weight\n",
      "-------------------------------  --------  ------------------  ------------------  -----------------  -------------------  -----------\n",
      "Bell-Jackson                     Bel6                 688.535             605.938            691.516              593.612  0.000610189\n",
      "Lawson Group                     Law92               1165                 985.403           1009.81              1045.17   0.0050124\n",
      "Acosta, Dunn and Cordova         Aco9                1503.47             1739.45            1634.54              1528.74   0.00356266\n",
      "Brown, Hernandez and Powell      Bro40               1258.03             1112.33            1329.02              1458.69   0.00239218\n",
      "Brown, Burns and Moore           Bro36               1470.44             1358.24            1696.41              1312.12   0.00216527\n",
      "Gonzales-Goodwin                 Gon46               1133.29             1189.14            1192.23              1276.91   0.00044546\n",
      "Lee, Shepherd and Singleton      Lee35                247.709             213.447            267.783              293.514  0.0173765\n",
      "Johnson Group                    Joh100               985.962            1131.75             847.831             1133.65   0.0104399\n",
      "Caldwell and Sons                Cal90               1377.83             1396.02            1373.86              1341.4    0.00721125\n",
      "Perkins-Wright                   Per91                283.161             276.114            245.601              248.088  0.0136121\n",
      "Sweeney Inc                      Swe25                888.709             807.457            817.941              712.612  0.00669028\n",
      "Jones Group                      Jon11               1114.03             1147.55            1126.01              1238.88   0.0126057\n",
      "Duffy-Carlson                    Duf61                455.572             420.979            386.93               486.615  0.0132933\n",
      "Griffin-Stuart                   Gri10                547.657             452.898            543.021              573.161  0.0178935\n",
      "Horne and Sons                   Hor3                 147.731             139.856            141.508              171.572  0.00879644\n",
      "Hale-Garcia                      Hal35                705.393             628.883            565.515              647.688  0.00197437\n",
      "Pierce PLC                       Pie6                1859.62             1582.21            1993.91              1587.15   0.0153184\n",
      "Mcgee-Sandoval                   Mcg33                939.36              922.351            977.605              953.218  0.00180367\n",
      "Landry LLC                       Lan43                669.31              729.982            795.999              594.191  0.00105934\n",
      "Hudson Inc                       Hud12               1622.44             1940.9             1660.93              1467.51   0.00294597\n",
      "Ramirez-Knight                   Ram47               1752.14             1804.86            2069.69              2011.43   0.0161432\n",
      "Brown Group                      Bro91               1561.1              1843.07            1864.52              1860.86   0.00140735\n",
      "Smith-Brown                      Smi61                126.194             148.143            115.607              111.309  0.0144407\n",
      "Herrera-Jarvis                   Her62                643.91              645.962            715.731              676.149  0.000805449\n",
      "Smith-Wright                     Smi33                628.942             514.949            744.316              638.296  0.0193807\n",
      "Mills-Jones                      Mil11               1575.34             1579.37            1875.56              1799.19   0.00898193\n",
      "Winters-Frazier                  Win31               1236.86             1391.84            1029.69              1264.63   0.0101427\n",
      "Meyer-Bowers                     Mey65                300.552             291.482            332.079              256.166  0.0033528\n",
      "Sawyer Group                     Saw73                855.81              775.21             747.515              731.601  0.00826519\n",
      "Blake Group                      Bla24               1877.7              1778.01            1662.27              1843.23   0.0122734\n",
      "Willis-Clayton                   Wil29                288.483             247.59             266.992              271.633  0.0131222\n",
      "Osborne-Finley                   Osb32               1161.78             1305.09            1069.3               1316.86   0.000256376\n",
      "Gill PLC                         Gil2                 887.566             737.048            947.123              740.351  0.0135537\n",
      "Estrada LLC                      Est92               1856.65             2144.68            1991.68              1963.55   0.0194617\n",
      "Graham Group                     Gra85               1714.6              1607.98            1828.12              1585.7    0.0133045\n",
      "Murray Inc                       Mur19               1136.65             1068.45            1213.18              1334.52   0.00800947\n",
      "Benitez-Tran                     Ben58               1552.11             1428.87            1388.17              1594.22   0.0196317\n",
      "Conway, Howard and Larson        Con59               1240.04             1162               1081.44              1059.29   0.00441267\n",
      "Thomas-Day                       Tho51               1589.42             1437               1503.71              1700.35   0.0191959\n",
      "Wood PLC                         Woo10                498.339             566.835            509.473              449.518  0.00649559\n",
      "Smith-Jones                      Smi28               1760.3              1663.89            1975.91              2000.82   0.019123\n",
      "Wood-Woodard                     Woo99               1495.1              1439.57            1230.82              1306.95   0.0171062\n",
      "Schneider-Rich                   Sch27                736.608             865.48             867.33               639.208  0.000142651\n",
      "Nguyen, Gillespie and Jones      Ngu91               1829.01             1937.8             1683.72              2185.92   0.0159569\n",
      "Steele, Bolton and Cruz          Ste4                 800.314             901.454            686.605              834.95   0.01686\n",
      "Fitzgerald LLC                   Fit51                584.519             572.565            550.229              629.303  0.00601552\n",
      "Lewis PLC                        Lew48                726.704             777.23             744.201              670.059  0.000598367\n",
      "Clark Ltd                        Cla61               1114.4              1046.12            1124.66              1073.09   0.0134497\n",
      "Willis-Robertson                 Wil89               1258.52             1432.14            1133.21              1498.95   0.0117967\n",
      "Harrison-Martinez                Har62               1714.21             1379.42            1546.93              1665.7    0.00535763\n",
      "Holloway-Montgomery              Hol12               1116.19             1336.92            1225.8               1296.7    0.00821145\n",
      "Silva, Reilly and Howell         Sil26               1356.41             1136.6             1409.56              1619      0.0072742\n",
      "Miller Group                     Mil90                222.101             232.262            246.774              179.252  0.0160143\n",
      "Richmond, Hall and Elliott       Ric80               1480.16             1557.01            1360.79              1650.76   0.0187059\n",
      "Weaver Group                     Wea9                1563.14             1392.29            1768.58              1670.09   0.0195736\n",
      "Bowen and Sons                   Bow27                771.857             753.191            757.001              818.04   0.00554074\n",
      "Sosa Group                       Sos91                236.522             213.316            271.317              262.633  0.00671086\n",
      "Butler, Austin and Hurst         But55                582.758             488.903            689.745              470.373  0.0197728\n",
      "Rodriguez and Sons               Rod46               1295.12             1245.41            1450.21              1507.41   0.000275358\n",
      "Finley, Torres and Ortiz         Fin51               1677.88             1609.81            1981.11              1415.3    0.0132933\n",
      "Roman-Rivera                     Rom90               1420.18             1590.2             1351.98              1267.22   0.0187676\n",
      "Gardner and Sons                 Gar21                838.89              823.525            812.278              934.563  0.0143426\n",
      "Lawrence Ltd                     Law36                675.634             663.664            806.589              755.416  0.00197496\n",
      "Brooks-Lopez                     Bro23               1891.17             2173.51            1883.26              2215      0.0176171\n",
      "Hutchinson, Martinez and Howell  Hut55                733.909             706.208            865.787              694.889  0.00539662\n",
      "Gross, Moore and Chandler        Gro57               1840.42             1704.62            1756.02              1571.5    0.0101129\n",
      "Clark-Gregory                    Cla84                942.181             963.679           1019.32               846.787  0.00251458\n",
      "Pham, Hebert and Lee             Pha17                306.586             254.176            327.103              351.878  0.0051296\n",
      "Williams Group                   Wil94                336.784             294.202            285.968              281.979  0.0153245\n",
      "Riggs and Sons                   Rig35                968.529             822.824            920.625              986.137  0.0132467\n",
      "Lawson Ltd                       Law53               1495.51             1587.5             1416.77              1219.75   0.0117108\n",
      "Buchanan and Sons                Buc47                983.565            1054.01            1083.83              1015.54   0.013352\n",
      "Barrett-Anderson                 Bar47                231.382             219.497            238.876              230.941  0.015588\n",
      "Proctor, French and Little       Pro3                1336.6              1282.66            1250.57              1308.76   0.00713624\n",
      "Mcneil, Cruz and Castro          Mcn4                 274.704             300.628            324.172              227.562  0.0138683\n",
      "Johnson-Davis                    Joh2                1543.61             1587.31            1424.18              1793.34   0.00196257\n",
      "Houston, Olsen and White         Hou6                1754.6              2071.72            1480.2               1853.15   0.00551497\n",
      "Williams, Wilson and Flores      Wil36                137.066             119.445            135.216              127.017  0.0121667\n",
      "Lawrence, Brown and Frederick    Law87                461.32              381.231            432.652              439.937  0.0137438\n",
      "Hughes-Cabrera                   Hug62                660.845             532.437            559.656              588.751  0.0115965\n",
      "Garcia and Sons                  Gar80               1659.17             1454.28            1921.59              1850.59   0.013548\n",
      "Moreno, Levy and Harris          Mor85               1525.29             1230.13            1659.35              1627.65   0.0195037\n",
      "Garcia, Mercado and Rasmussen    Gar41                430.292             468.188            368.079              461.441  0.0146515\n",
      "Goodwin-Oneal                    Goo0                 622.147             618.178            538.85               520.874  0.00407005\n",
      "Weaver LLC                       Wea20               1097.45             1153.77            1203.94              1223.99   0.0163628\n",
      "Nichols-Moss                     Nic33               1515.26             1809.22            1697.34              1299.55   0.0185938\n",
      "Leblanc Ltd                      Leb41               1424.41             1228.02            1452.21              1592.33   0.00928253\n",
      "Richardson-Flowers               Ric54               1253.77             1468.29            1347.73              1199.2    0.00579073\n",
      "Kelly-Long                       Kel29                843.538             798.809            729.378              864.051  0.00817931\n",
      "Vargas-Jones                     Var16                310.437             371.44             272.863              289.73   0.0170035\n",
      "Hall-Alexander                   Hal48               1615.59             1663.26            1786.4               1627.85   0.0145269\n",
      "Simon-Snyder                     Sim28                123.104             123.037            131.582              144.447  0.00297164\n",
      "Clarke, Schneider and Simpson    Cla97               1992.16             1657.22            1732.43              2012.24   0.00949833\n",
      "Swanson and Sons                 Swa28                372.259             330.321            339.367              363.922  3.58776e-06\n",
      "Sheppard-West                    She57                989.676            1144.02             813.392              802.444  0.0105675\n",
      "Mcdowell and Sons                Mcd49               1266.4              1401.94            1286.27              1091.01   0.0176974\n",
      "Summers, Anthony and Alexander   Sum51               1102.04             1075.05             902.266             1173.72   0.00992688\n",
      "Mcdonald, Willis and Zimmerman   Mcd28               1099.58             1090.58            1190.59              1266.25   0.00296842\n",
      "Leonard, Haas and Gomez          Leo66                282.838             255.768            312.032              310.249  0.0133999\n",
      "Mitchell-Cooper                  Mit84                190.148             194.648            154.165              156.306  0.000761088\n"
     ]
    }
   ],
   "source": [
    "# Print the stocks present in the stock market\n",
    "stock_market = Stock.create_stock_market()\n",
    "display_list = list()\n",
    "for stock in stock_market:\n",
    "    display_list.append(list(stock))\n",
    "print(tabulate(display_list, headers=['Name', 'Symbol',  'Open price (Rs.)', 'High price (Rs.)', 'Low price (Rs.)','Close price (Rs.)', 'Weight']))\n"
   ]
  },
  {
   "cell_type": "code",
   "execution_count": 8,
   "metadata": {},
   "outputs": [
    {
     "name": "stdout",
     "output_type": "stream",
     "text": [
      "Index(open=10.709508534335471, high=10.595688699324919, low=10.787254670554056, close=10.860249128913186)\n"
     ]
    }
   ],
   "source": [
    "# Calculate index changes\n",
    "index = Stock.calculate_index(stock_market)\n",
    "\n",
    "print(index)"
   ]
  }
 ],
 "metadata": {
  "kernelspec": {
   "display_name": "Python 3",
   "language": "python",
   "name": "python3"
  },
  "language_info": {
   "codemirror_mode": {
    "name": "ipython",
    "version": 3
   },
   "file_extension": ".py",
   "mimetype": "text/x-python",
   "name": "python",
   "nbconvert_exporter": "python",
   "pygments_lexer": "ipython3",
   "version": "3.7.6"
  }
 },
 "nbformat": 4,
 "nbformat_minor": 4
}
