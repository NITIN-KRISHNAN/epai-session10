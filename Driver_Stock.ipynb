{
 "cells": [
  {
   "cell_type": "code",
   "execution_count": 1,
   "metadata": {},
   "outputs": [],
   "source": [
    "import Stock"
   ]
  },
  {
   "cell_type": "code",
   "execution_count": 2,
   "metadata": {},
   "outputs": [
    {
     "name": "stdout",
     "output_type": "stream",
     "text": [
      "Requirement already satisfied: tabulate in /Users/Krish/opt/anaconda3/lib/python3.7/site-packages (0.8.7)\n"
     ]
    }
   ],
   "source": [
    "# to display stock market as a table\n",
    "!pip install tabulate\n",
    "from tabulate import tabulate"
   ]
  },
  {
   "cell_type": "code",
   "execution_count": 3,
   "metadata": {},
   "outputs": [
    {
     "name": "stdout",
     "output_type": "stream",
     "text": [
      "Name                           Symbol      Open price (Rs.)    High price (Rs.)    Low price (Rs.)    Close price (Rs.)       Weight\n",
      "-----------------------------  --------  ------------------  ------------------  -----------------  -------------------  -----------\n",
      "Gill, Hicks and Hansen         Gil51               6867.89             7472.44            5703.04              6182.62   0.0181674\n",
      "Hughes, Price and Chambers     Hug91               3998.56             4117.08            3812.48              4001.3    0.00926002\n",
      "Guerrero Group                 Gue48               7708.62             8166.47            6558.63              7440.52   0.0104814\n",
      "Young-Underwood                You56               6053.27             6511.64            5983.76              6327.66   0.0169795\n",
      "Lewis-Johnson                  Lew38               4321.11             5056.51            4064.92              4699.77   0.0162077\n",
      "Ball LLC                       Bal73               1724.7              1823.69            1429.94              1727.12   0.0166591\n",
      "Weiss-Kent                     Wei86               5213.15             5392.67            4956.12              5108.16   0.0129894\n",
      "Nunez, Barrett and Vasquez     Nun19                155.025             176.158            141.034              173.824  0.0143772\n",
      "Simpson Inc                    Sim42               4954.49             5747.07            4727.54              5139.72   0.0108206\n",
      "Mccoy-Murphy                   Mcc72               9188.41             9801.64            7744.47              8624.71   0.0140136\n",
      "Lindsey-Schmitt                Lin34               4029.6              4410.64            3624.73              4121.44   4.91542e-05\n",
      "Sanders, Wade and Shaw         San19               7662.45             8748.59            6321.22              7570.33   0.0154985\n",
      "Kelly, Adkins and Reyes        Kel76               2440.21             2708.97            2327.18              2573.6    0.0026954\n",
      "Tucker-Williams                Tuc27                737.023             739.929            693.635              712.405  0.00851389\n",
      "Lopez, Lawrence and Hill       Lop72               9184.74            10625.5             7485.76              9918.04   0.0092581\n",
      "Thomas-Watson                  Tho40               3953.11             4108.84            3925.09              3963.83   0.0167619\n",
      "Taylor-Cummings                Tay43               9695.04             9994.27            9340.96              9719.15   0.0163926\n",
      "Payne-Hernandez                Pay12               4742.51             5163.78            4137.18              4205.44   0.00446927\n",
      "Thomas-Wood                    Tho49               2962.72             3129.28            2657.23              2911.72   0.00393839\n",
      "Baker, Burnett and Leon        Bak56               6580.55             7710.34            6053.11              7707.13   0.0100544\n",
      "Ferguson and Sons              Fer37               1494.29             1587.52            1400.64              1519.64   0.00309645\n",
      "Dennis Group                   Den64               3649.77             4210.56            3268.12              3737.15   0.0180695\n",
      "James PLC                      Jam53               4767.53             5014.52            4274.96              4828.99   0.0117453\n",
      "Wiggins, Smith and Rodriguez   Wig37               8023.34             8261.1             7051.56              7436.09   0.00960661\n",
      "Lane and Sons                  Lan23               5416.74             5789.27            5194.42              5638.47   0.013946\n",
      "Salas-Woods                    Sal6                 717.732             837.318            666.684              773.31   0.0192598\n",
      "Carr Group                     Car35               4275.84             4567.7             3536.92              4041.37   0.0138424\n",
      "Sampson-Mitchell               Sam8                7543.42             7597.84            6077.6               7001.39   0.00786028\n",
      "Ross-Hodges                    Ros9                3843.33             4023.71            3117.85              3719.88   0.00796017\n",
      "Campos LLC                     Cam49               9195.29             9780.26            8208.64              8805.94   0.0169651\n",
      "Pennington, Smith and Lam      Pen15               6990.49             7440.38            6160.29              6999.61   0.0106083\n",
      "Quinn Inc                      Qui24               8946.18            10616.8             8630.88              9239.43   0.00766205\n",
      "Harper and Sons                Har99               6694.8              7682.48            6289.14              6347.38   0.00216199\n",
      "Hopkins Ltd                    Hop99                405.283             406.02             382.098              402.986  0.0055139\n",
      "Stevenson Inc                  Ste36               3163.33             3793.66            2794.97              3031.96   0.0123849\n",
      "Jackson, Dennis and Garner     Jac50               9820.13            11766.6             8681.22             11764.2    0.0105098\n",
      "White Ltd                      Whi59               2151.5              2465.66            1884.34              2053.35   0.00582045\n",
      "Baxter, Tucker and Wright      Bax8                1567.72             1644.34            1543.9               1616.49   0.0126702\n",
      "Morales-Johnson                Mor51               1213.73             1250.55            1164.4               1176.88   0.0145068\n",
      "Baxter PLC                     Bax83               3719.36             4265.17            3683.02              3760.37   0.00986535\n",
      "Brown-Ray                      Bro91               6470.87             6848.01            6354.3               6491.15   0.00657212\n",
      "Phillips and Sons              Phi14               6144.42             7129.35            5332.36              5712.92   0.0060122\n",
      "Shaw-Smith                     Sha99               7136.82             7183.15            6344.78              6786.95   0.00793609\n",
      "Blair, Garcia and Morgan       Bla7                5550.04             6425.23            5251.54              5456.17   0.0138332\n",
      "Lane-Davidson                  Lan96               5679.54             5973.15            4811.52              5688.52   0.000174418\n",
      "Martinez LLC                   Mar43               4484.7              4622.13            3739.44              3929.91   0.007013\n",
      "Nelson-Carlson                 Nel77               3185.86             3612.62            3039.62              3343.44   0.00806851\n",
      "Cooper, Hernandez and Daniels  Coo48               2184.83             2345.06            1793.61              1948.21   0.00743584\n",
      "Stewart, White and Brooks      Ste39               5998.8              6875.79            5408.32              6830.73   0.0030592\n",
      "Hayes, Griffin and Mccarthy    Hay61               7876.56             8184.77            7722.49              8169.4    0.00851765\n",
      "Roach-Chang                    Roa65               2640.11             3004.35            2602.74              2943.24   0.00904697\n",
      "Fleming LLC                    Fle63               9603.25            11185.3             9289.99             10408.6    0.0180232\n",
      "Maldonado-Moss                 Mal83                792.211             821.941            772.057              795.402  0.0166761\n",
      "Galvan-Davis                   Gal7                7116.81             7232.67            6081.29              6244.5    0.000390402\n",
      "Lozano Group                   Loz22               3480.46             4119.12            3074.47              3588.86   0.00852855\n",
      "Mcbride, Combs and White       Mcb48               4148.45             4330.98            3797.67              4098.4    0.0120502\n",
      "Miles-Wilson                   Mil95               9528.35             9790.75            7997.79              9179.37   0.0125806\n",
      "Martinez, Sanchez and Barry    Mar90               2418.33             2851.52            2049.18              2470.08   0.01016\n",
      "Sanchez-Martinez               San27               8226.58             9445.72            7830.13              8050.37   0.00951076\n",
      "Lawrence-Williams              Law90               9833.48            11473.1             8201.26              9172.93   0.00736396\n",
      "Pineda, Thomas and Thomas      Pin85               4022.47             4543.39            3682.59              4162.36   0.0106734\n",
      "Williams Ltd                   Wil22               4034.59             4241.41            3699.64              4204.93   0.0189919\n",
      "Giles PLC                      Gil65               3019.27             3039.14            2930.41              2984.94   0.00835811\n",
      "Singleton-Keith                Sin4                5151.47             5460.06            4424.1               5036.05   0.0141429\n",
      "Richardson-Oneill              Ric34                572.18              625.623            547.203              577.532  0.0154657\n",
      "Wood, Mooney and Thompson      Woo85               3881.53             4606.58            3291.62              4101.08   0.00823476\n",
      "Mullen-Hicks                   Mul44               2380.02             2557.57            2120.14              2427.21   0.00195951\n",
      "Haynes, Simon and Shah         Hay91               3937.94             4312.23            3688.65              4118.04   0.00812339\n",
      "Simpson, Adams and Gilbert     Sim46               9492.44            10338.7             9364.25             10054      0.00287028\n",
      "Holt Group                     Hol26               7150.71             8183.95            6613.7               7961.32   0.000987205\n",
      "Wagner, Moore and Nelson       Wag29               1531.06             1776.65            1329.35              1669      0.00611739\n",
      "Miller, Cooper and Oconnell    Mil68               7865.42             8700.79            7020.65              7568.44   0.00883184\n",
      "Walker-Mclaughlin              Wal19               4254.4              4717.18            3638.05              4610.4    0.00901967\n",
      "Copeland-Ryan                  Cop18               8778                8858.47            8151.7               8333.16   0.0121403\n",
      "Wang, Bartlett and Morales     Wan62               6005.3              6695.82            5790.07              5922.26   0.0156024\n",
      "Sullivan-Galloway              Sul58               5368.86             5655               5234.54              5416.44   0.0121023\n",
      "Burke Group                    Bur95               1909.2              1974.89            1694.44              1886.06   0.0128084\n",
      "Wolf Inc                       Wol45               9974.27            11433               8307.19              8862.48   0.012052\n",
      "Hill, Farrell and Mcdonald     Hil72               9544.17            10621.6             8187                10494.1    0.0130003\n",
      "Obrien, Johnson and Dean       Obr55               6331.59             6817.86            5413.26              6657.75   0.0137836\n",
      "Scott-Winters                  Sco37                319.882             357.219            264.348              346.867  0.0068909\n",
      "Chavez-Marshall                Cha18               5175.89             6133.83            5116.17              5446.88   0.00354118\n",
      "Holt, Powell and Jackson       Hol20               9520.3             10342.1             7866.15              8561.4    0.015001\n",
      "King and Sons                  Kin84               5573.85             5826.13            5271.24              5550.07   0.00924767\n",
      "Wong Group                     Won22               8807.73             9347.77            8509.73              8982.74   0.00827999\n",
      "Page, Johnson and Williams     Pag95                945.255             956.692            857.333              911.434  0.00274583\n",
      "Carter Inc                     Car60               4952.62             5158.13            4566.48              5102.72   0.00852173\n",
      "Little Ltd                     Lit54               5458.94             6305.81            5335.87              5541.31   0.000657677\n",
      "Duncan-Thomas                  Dun16               6013.51             6428.15            4953.76              6263.53   0.00470795\n",
      "Taylor, Santos and Shannon     Tay100              4599.82             4841.51            4062.33              4709.87   0.0103688\n",
      "Brooks-Porter                  Bro66               9621.24             9874.77            8765.06              9535.07   0.0137427\n",
      "Ruiz PLC                       Rui33               6119.08             6649.38            5326.16              6344.61   0.0105056\n",
      "Steele, Evans and Meyers       Ste32                189.533             220.294            165.793              212.93   0.0114149\n",
      "Meadows, Stanley and Henson    Mea35               5192.75             5902.19            4355.29              4742.59   0.00473873\n",
      "Green-Norris                   Gre66               1873.81             2062.71            1695.39              1990.81   0.0161356\n",
      "Rivera-Rush                    Riv91               3008.35             3297.75            2546.14              2966.66   0.00698969\n",
      "Acosta PLC                     Aco91               6348.77             7442.33            5432.8               7265.5    0.0158443\n",
      "Peterson-Daniels               Pet15               6516.79             6903.48            6390.02              6806.83   0.018786\n",
      "Hale-Day                       Hal98               8842.86             9931               7646.49              9744.83   0.00609263\n",
      "Scott Group                    Sco77               5078.53             5683.62            4311.93              4486.39   0.00592568\n"
     ]
    }
   ],
   "source": [
    "# Print the stocks present in the stock market\n",
    "stock_market = Stock.create_stock_market()\n",
    "display_list = list()\n",
    "for stock in stock_market:\n",
    "    display_list.append(list(stock))\n",
    "print(tabulate(display_list, headers=['Name', 'Symbol',  'Open price (Rs.)', 'High price (Rs.)', 'Low price (Rs.)','Close price (Rs.)', 'Weight']))\n"
   ]
  },
  {
   "cell_type": "code",
   "execution_count": 4,
   "metadata": {},
   "outputs": [
    {
     "name": "stdout",
     "output_type": "stream",
     "text": [
      "Index(open=5246.153955131618, high=5732.647198840164, low=4724.140996327141, close=5278.257784019275)\n"
     ]
    }
   ],
   "source": [
    "# Calculate index changes\n",
    "index = Stock.calculate_index(stock_market)\n",
    "\n",
    "print(index)"
   ]
  },
  {
   "cell_type": "code",
   "execution_count": null,
   "metadata": {},
   "outputs": [],
   "source": []
  }
 ],
 "metadata": {
  "kernelspec": {
   "display_name": "Python 3",
   "language": "python",
   "name": "python3"
  },
  "language_info": {
   "codemirror_mode": {
    "name": "ipython",
    "version": 3
   },
   "file_extension": ".py",
   "mimetype": "text/x-python",
   "name": "python",
   "nbconvert_exporter": "python",
   "pygments_lexer": "ipython3",
   "version": "3.7.6"
  }
 },
 "nbformat": 4,
 "nbformat_minor": 4
}
