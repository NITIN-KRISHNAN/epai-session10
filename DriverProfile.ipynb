{
 "cells": [
  {
   "cell_type": "code",
   "execution_count": 1,
   "metadata": {},
   "outputs": [],
   "source": [
    "from faker import Faker\n",
    "import Dict\n",
    "import NamedTuple"
   ]
  },
  {
   "cell_type": "code",
   "execution_count": 2,
   "metadata": {},
   "outputs": [],
   "source": [
    "profile_named_tuple = NamedTuple.form_profile_named_tuple()\n",
    "\n",
    "#profile_dict = Dict.form_profile_dict()\n",
    "profile_dict = Dict.form_profile_dict_from_namedtuple(profile_named_tuple)"
   ]
  },
  {
   "cell_type": "code",
   "execution_count": 3,
   "metadata": {},
   "outputs": [
    {
     "name": "stdout",
     "output_type": "stream",
     "text": [
      "largest blood type and time taken by namedtuple is  ('B-', 0.003495931625366211)\n",
      "largest blood type and time taken time taken by dict is  ('B-', 0.00608515739440918)\n"
     ]
    }
   ],
   "source": [
    "# largest blood type\n",
    "dict_largest_blood_type = Dict.calculate_largest_blood_type(profile_dict)\n",
    "namedtuple_largest_blood_type = NamedTuple.calculate_largest_blood_type(profile_named_tuple)\n",
    "print('largest blood type and time taken by namedtuple is ', namedtuple_largest_blood_type)\n",
    "print('largest blood type and time taken time taken by dict is ', dict_largest_blood_type)"
   ]
  },
  {
   "cell_type": "code",
   "execution_count": 9,
   "metadata": {},
   "outputs": [
    {
     "name": "stdout",
     "output_type": "stream",
     "text": [
      "mean current location and time taken by namedtuple is  ((Decimal('0.1534287727'), Decimal('1.126247345')), 0.008796215057373047)\n",
      "mean current location and time taken time taken by dict is  ((Decimal('0.1534287727'), Decimal('1.126247345')), 0.009984016418457031)\n"
     ]
    }
   ],
   "source": [
    "# mean current location\n",
    "dict_mean_current_location = Dict.calculate_mean_current_location(profile_dict)\n",
    "namedtuple_mean_current_location = NamedTuple.calculate_mean_current_location(profile_named_tuple)\n",
    "print('mean current location and time taken by namedtuple is ', namedtuple_mean_current_location)\n",
    "print('mean current location and time taken time taken by dict is ', dict_mean_current_location)"
   ]
  },
  {
   "cell_type": "code",
   "execution_count": 10,
   "metadata": {},
   "outputs": [
    {
     "name": "stdout",
     "output_type": "stream",
     "text": [
      "oldest person age and time taken by namedtuple is  (115.96167008898016, 0.02734375)\n",
      "oldest person age and time taken time taken by dict is  (115.96167008898016, 0.03199577331542969)\n"
     ]
    }
   ],
   "source": [
    "# oldest person age\n",
    "dict_oldest_person_age = Dict.calculate_oldest_person_age(profile_dict)\n",
    "namedtuple_oldest_person_age = NamedTuple.calculate_oldest_person_age(profile_named_tuple)\n",
    "print('oldest person age and time taken by namedtuple is ', namedtuple_oldest_person_age)\n",
    "print('oldest person age and time taken time taken by dict is ', dict_oldest_person_age)"
   ]
  },
  {
   "cell_type": "code",
   "execution_count": 7,
   "metadata": {},
   "outputs": [
    {
     "name": "stdout",
     "output_type": "stream",
     "text": [
      "Average person age and time taken by namedtuple is  (57.59003394934976, 0.020982027053833008)\n",
      "Average person age and time taken time taken by dict is  (57.59003394934976, 0.024750947952270508)\n"
     ]
    }
   ],
   "source": [
    "# Average age\n",
    "dict_avg_age = Dict.calculate_avg_age(profile_dict)\n",
    "namedtuple_avg_age = NamedTuple.calculate_avg_age(profile_named_tuple)\n",
    "\n",
    "print('Average person age and time taken by namedtuple is ', namedtuple_avg_age)\n",
    "print('Average person age and time taken time taken by dict is ', dict_avg_age)"
   ]
  },
  {
   "cell_type": "markdown",
   "metadata": {},
   "source": [
    "# Conclusion\n",
    "## From the logs above the time taken by namedtuple is less than dict\n",
    "| Task | Time taken by namedtuple | Time taken by dict |\n",
    "| --- | --- | --- |\n",
    "| Largest Blood group | 0.003495931625366211 | 0.00608515739440918 |\n",
    "| Mean current location | 0.008796215057373047 | 0.009984016418457031 |\n",
    "| Oldest person age | 0.02734375 | 0.03199577331542969 |\n",
    "| Average age | 0.020982027053833008 | .0.024750947952270508 |\n"
   ]
  },
  {
   "cell_type": "code",
   "execution_count": null,
   "metadata": {},
   "outputs": [],
   "source": []
  }
 ],
 "metadata": {
  "kernelspec": {
   "display_name": "Python 3",
   "language": "python",
   "name": "python3"
  },
  "language_info": {
   "codemirror_mode": {
    "name": "ipython",
    "version": 3
   },
   "file_extension": ".py",
   "mimetype": "text/x-python",
   "name": "python",
   "nbconvert_exporter": "python",
   "pygments_lexer": "ipython3",
   "version": "3.7.6"
  }
 },
 "nbformat": 4,
 "nbformat_minor": 4
}
